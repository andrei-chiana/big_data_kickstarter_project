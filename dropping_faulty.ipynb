{
 "cells": [
  {
   "cell_type": "code",
   "execution_count": null,
   "id": "72ce07d2",
   "metadata": {},
   "outputs": [],
   "source": []
  },
  {
   "cell_type": "code",
   "execution_count": 24,
   "id": "bb4a7d13",
   "metadata": {},
   "outputs": [
    {
     "ename": "ValueError",
     "evalue": "'launch_date' is not in list",
     "output_type": "error",
     "traceback": [
      "\u001b[0;31m---------------------------------------------------------------------------\u001b[0m",
      "\u001b[0;31mValueError\u001b[0m                                Traceback (most recent call last)",
      "\u001b[0;32m/var/folders/g7/bpwmtjg5225ffy838sj1hq4m0000gn/T/ipykernel_60975/1357968384.py\u001b[0m in \u001b[0;36m<module>\u001b[0;34m\u001b[0m\n\u001b[1;32m     10\u001b[0m \u001b[0;34m\u001b[0m\u001b[0m\n\u001b[1;32m     11\u001b[0m     \u001b[0;31m# Find the index of the 'launch_date' column\u001b[0m\u001b[0;34m\u001b[0m\u001b[0;34m\u001b[0m\u001b[0m\n\u001b[0;32m---> 12\u001b[0;31m     \u001b[0mlaunch_date_index\u001b[0m \u001b[0;34m=\u001b[0m \u001b[0mheader\u001b[0m\u001b[0;34m.\u001b[0m\u001b[0mindex\u001b[0m\u001b[0;34m(\u001b[0m\u001b[0;34m'launch_date'\u001b[0m\u001b[0;34m)\u001b[0m\u001b[0;34m\u001b[0m\u001b[0;34m\u001b[0m\u001b[0m\n\u001b[0m\u001b[1;32m     13\u001b[0m \u001b[0;34m\u001b[0m\u001b[0m\n\u001b[1;32m     14\u001b[0m     \u001b[0;31m# Create a list to store the valid rows\u001b[0m\u001b[0;34m\u001b[0m\u001b[0;34m\u001b[0m\u001b[0m\n",
      "\u001b[0;31mValueError\u001b[0m: 'launch_date' is not in list"
     ]
    }
   ],
   "source": [
    "import csv\n",
    "\n",
    "# Open the input CSV file\n",
    "with open('Kickstarter.csv', 'r') as input_file:\n",
    "    # Create a CSV reader object\n",
    "    reader = csv.reader(input_file)\n",
    "    \n",
    "    # Get the header row\n",
    "    header = next(reader)\n",
    "    \n",
    "    # Find the index of the 'launch_date' column\n",
    "    launch_date_index = header.index('launch_date')\n",
    "    \n",
    "    # Create a list to store the valid rows\n",
    "    valid_rows = []\n",
    "    \n",
    "    # Iterate over the rows in the CSV file\n",
    "    for row in reader:\n",
    "        # Check the value of the 'launch_date' column\n",
    "        if row[launch_date_index] != '0':\n",
    "            # If the value is not 0, append the row to the list of valid rows\n",
    "            valid_rows.append(row)\n",
    "            \n",
    "# Open the output CSV file\n",
    "with open('output.csv', 'w') as output_file:\n",
    "    # Create a CSV writer object\n",
    "    writer = csv.writer(output_file)\n",
    "    \n",
    "    # Write the header row\n",
    "    writer.writerow(header)\n",
    "    \n",
    "    # Write the valid rows\n",
    "    for row in valid_rows:\n",
    "        writer.writerow(row)\n"
   ]
  },
  {
   "cell_type": "code",
   "execution_count": null,
   "id": "9bdcd767",
   "metadata": {},
   "outputs": [],
   "source": []
  }
 ],
 "metadata": {
  "kernelspec": {
   "display_name": "Python 3 (ipykernel)",
   "language": "python",
   "name": "python3"
  },
  "language_info": {
   "codemirror_mode": {
    "name": "ipython",
    "version": 3
   },
   "file_extension": ".py",
   "mimetype": "text/x-python",
   "name": "python",
   "nbconvert_exporter": "python",
   "pygments_lexer": "ipython3",
   "version": "3.9.7"
  }
 },
 "nbformat": 4,
 "nbformat_minor": 5
}
