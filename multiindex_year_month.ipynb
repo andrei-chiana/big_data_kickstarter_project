{
 "cells": [
  {
   "cell_type": "code",
   "execution_count": null,
   "id": "649836fc",
   "metadata": {},
   "outputs": [],
   "source": [
    "import os\n",
    "import csv\n",
    "import pandas as pd\n",
    "import dask as dd"
   ]
  },
  {
   "cell_type": "code",
   "execution_count": null,
   "id": "8c8b73c5",
   "metadata": {},
   "outputs": [],
   "source": [
    "#read the file:\n",
    "#df = pd.read_csv(\"DECEMBER2022.csv\")\n",
    "\n",
    "ddf = dd.read_csv(\"data/*.csv\")\n",
    "data = ddf[[\"category\",\"launched_at\", \"name\", \"state\"]]\n",
    "\n",
    "df = data.compute()\n",
    "\n",
    "\n",
    "# Convert the 'date' column to datetime\n",
    "df['launched_at'] = pd.to_datetime(df['launched_at'], unit='s')\n",
    "\n",
    "# Create new columns 'month' and 'year' and assign the month and year of the date\n",
    "df['month'] = df['launched_at'].dt.month\n",
    "df['year'] = df['launched_at'].dt.year\n",
    "\n",
    "# Group the DataFrame by the 'month' and 'year' columns\n",
    "df_grouped = df.groupby(by=['year','month']).sum()\n",
    "df_grouped\n",
    "\n",
    "#iterate over the grouped dataframe and create separate dataframe\n",
    "#for name, group in df_grouped:\n",
    "#    print(name)\n",
    " #   print(group)\n"
   ]
  },
  {
   "cell_type": "code",
   "execution_count": null,
   "id": "3999a9a3",
   "metadata": {},
   "outputs": [],
   "source": []
  }
 ],
 "metadata": {
  "kernelspec": {
   "display_name": "Python 3",
   "language": "python",
   "name": "python3"
  },
  "language_info": {
   "codemirror_mode": {
    "name": "ipython",
    "version": 3
   },
   "file_extension": ".py",
   "mimetype": "text/x-python",
   "name": "python",
   "nbconvert_exporter": "python",
   "pygments_lexer": "ipython3",
   "version": "3.8.5 (tags/v3.8.5:580fbb0, Jul 20 2020, 15:57:54) [MSC v.1924 64 bit (AMD64)]"
  },
  "vscode": {
   "interpreter": {
    "hash": "78c1255c6a641d929462195c70f3e9e17eae4c55d3679f5e7dbdc19d0b42a816"
   }
  }
 },
 "nbformat": 4,
 "nbformat_minor": 5
}
