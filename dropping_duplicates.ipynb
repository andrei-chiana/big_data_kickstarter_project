{
 "cells": [
  {
   "cell_type": "code",
   "execution_count": 4,
   "id": "556744fa",
   "metadata": {},
   "outputs": [
    {
     "name": "stdout",
     "output_type": "stream",
     "text": [
      "\n",
      "\n",
      "Duplicate Rows : \n",
      "    Name;Date;State;;;;\n",
      "3       Nora;4;Yes;;;;\n",
      "8   Dominika;7;Yes;;;;\n",
      "10    Michaël;3;No;;;;\n",
      "\n",
      "\n",
      "Result DataFrame after duplicate removal :\n",
      "   Name;Date;State;;;;\n",
      "0    Dhriti;0;Yes;;;;\n",
      "1     Dhriti;0;No;;;;\n",
      "2      Nora;4;Yes;;;;\n",
      "4       Nora;4;No;;;;\n",
      "5  Dominika;7;Yes;;;;\n"
     ]
    }
   ],
   "source": [
    "import pandas as pd\n",
    "\n",
    "\n",
    "df_state=pd.read_csv(\"/Users/dhritiarjun/Desktop/names.csv\")\n",
    "\n",
    "Dup_Rows = df_state[df_state.duplicated()]\n",
    "\n",
    "\n",
    "print(\"\\n\\nDuplicate Rows : \\n {}\".format(Dup_Rows))\n",
    "\n",
    "\n",
    "DF_RM_DUP = df_state.drop_duplicates(keep='first')\n",
    "\n",
    "\n",
    "print('\\n\\nResult DataFrame after duplicate removal :\\n', DF_RM_DUP.head(n=5))"
   ]
  },
  {
   "cell_type": "code",
   "execution_count": null,
   "id": "3d6393a1",
   "metadata": {},
   "outputs": [],
   "source": []
  }
 ],
 "metadata": {
  "kernelspec": {
   "display_name": "Python 3 (ipykernel)",
   "language": "python",
   "name": "python3"
  },
  "language_info": {
   "codemirror_mode": {
    "name": "ipython",
    "version": 3
   },
   "file_extension": ".py",
   "mimetype": "text/x-python",
   "name": "python",
   "nbconvert_exporter": "python",
   "pygments_lexer": "ipython3",
   "version": "3.9.7"
  }
 },
 "nbformat": 4,
 "nbformat_minor": 5
}
